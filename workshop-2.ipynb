{
 "cells": [
  {
   "cell_type": "code",
   "execution_count": 1,
   "id": "29148279",
   "metadata": {
    "execution": {
     "iopub.execute_input": "2022-04-28T20:29:20.476602Z",
     "iopub.status.busy": "2022-04-28T20:29:20.475977Z",
     "iopub.status.idle": "2022-04-28T20:29:20.641079Z",
     "shell.execute_reply": "2022-04-28T20:29:20.640439Z"
    },
    "id": "hg6jmNoFuBqA",
    "outputId": "4b31837b-cf3d-4380-d77d-8db5d9502dbc",
    "papermill": {
     "duration": 0.199562,
     "end_time": "2022-04-28T20:29:20.643142",
     "exception": false,
     "start_time": "2022-04-28T20:29:20.443580",
     "status": "completed"
    },
    "tags": []
   },
   "outputs": [],
   "source": [
    "# from google.colab import drive\n",
    "import os,cv2, sys, math , csv\n",
    "# drive.mount('/content/gdrive')"
   ]
  },
  {
   "cell_type": "code",
   "execution_count": 2,
   "id": "8c77d06a",
   "metadata": {
    "execution": {
     "iopub.execute_input": "2022-04-28T20:29:20.702905Z",
     "iopub.status.busy": "2022-04-28T20:29:20.702370Z",
     "iopub.status.idle": "2022-04-28T20:29:28.669217Z",
     "shell.execute_reply": "2022-04-28T20:29:28.668495Z"
    },
    "id": "23XehYT3be5J",
    "papermill": {
     "duration": 7.999156,
     "end_time": "2022-04-28T20:29:28.671664",
     "exception": false,
     "start_time": "2022-04-28T20:29:20.672508",
     "status": "completed"
    },
    "tags": []
   },
   "outputs": [],
   "source": [
    "import numpy as np \n",
    "import torch\n",
    "import seaborn as sns\n",
    "import pandas as pd\n",
    "import matplotlib.pyplot as plt\n",
    "import pickle\n",
    "import warnings\n",
    "from tensorflow.keras.applications import VGG19\n",
    "warnings.filterwarnings('ignore')\n",
    "#import matplotlib.pyplot as plt\n",
    "import keras\n",
    "import tensorflow as tf\n",
    "from tensorflow.keras import Sequential \n",
    "from tensorflow.keras.utils import Sequence, to_categorical, plot_model\n",
    "from tensorflow.keras.preprocessing.image import load_img, img_to_array, ImageDataGenerator\n",
    "from tensorflow.keras.layers import Conv2D, Conv2DTranspose, Dense, Input, MaxPooling2D, concatenate, BatchNormalization, Activation, Dropout\n",
    "from tensorflow.keras.models import load_model, Model\n",
    "from tensorflow.keras.callbacks import ModelCheckpoint, EarlyStopping\n",
    "from random import sample, choice\n",
    "from PIL import Image\n",
    "import cv2\n",
    "import warnings\n",
    "warnings.filterwarnings(\"ignore\")\n",
    "import albumentations as albu\n",
    "import time\n",
    "import os\n",
    "from tqdm.notebook import tqdm\n",
    "\n",
    "device = torch.device(\"cuda\" if torch.cuda.is_available() else \"cpu\")"
   ]
  },
  {
   "cell_type": "code",
   "execution_count": 3,
   "id": "93a261fe",
   "metadata": {
    "execution": {
     "iopub.execute_input": "2022-04-28T20:29:28.733252Z",
     "iopub.status.busy": "2022-04-28T20:29:28.733050Z",
     "iopub.status.idle": "2022-04-28T20:29:28.736179Z",
     "shell.execute_reply": "2022-04-28T20:29:28.735447Z"
    },
    "id": "Q1ubEXmTjN7u",
    "outputId": "efb48027-7932-46b0-8c38-4941a169fffd",
    "papermill": {
     "duration": 0.035054,
     "end_time": "2022-04-28T20:29:28.737915",
     "exception": false,
     "start_time": "2022-04-28T20:29:28.702861",
     "status": "completed"
    },
    "tags": []
   },
   "outputs": [],
   "source": [
    "# from google.colab import drive\n",
    "# drive.mount('/content/drive')"
   ]
  },
  {
   "cell_type": "code",
   "execution_count": null,
   "id": "15e399dd",
   "metadata": {
    "id": "y-MzK4wvuZsm",
    "outputId": "d7add150-10ec-40b1-dccb-e923bd3f97d5",
    "papermill": {
     "duration": 0.028732,
     "end_time": "2022-04-28T20:29:28.795560",
     "exception": false,
     "start_time": "2022-04-28T20:29:28.766828",
     "status": "completed"
    },
    "tags": []
   },
   "outputs": [],
   "source": []
  },
  {
   "cell_type": "code",
   "execution_count": 4,
   "id": "8b484249",
   "metadata": {
    "execution": {
     "iopub.execute_input": "2022-04-28T20:29:28.855736Z",
     "iopub.status.busy": "2022-04-28T20:29:28.855206Z",
     "iopub.status.idle": "2022-04-28T20:29:29.234202Z",
     "shell.execute_reply": "2022-04-28T20:29:29.233522Z"
    },
    "id": "R-euwEupt9PX",
    "papermill": {
     "duration": 0.410816,
     "end_time": "2022-04-28T20:29:29.236201",
     "exception": false,
     "start_time": "2022-04-28T20:29:28.825385",
     "status": "completed"
    },
    "tags": []
   },
   "outputs": [],
   "source": [
    "import numpy as np # linear algebra\n",
    "import pandas as pd # data processing, CSV file I/O (e.g. pd.read_csv)\n",
    "import matplotlib.pyplot as plt # showing and rendering figures\n",
    "# io related\n",
    "from skimage.io import imread\n",
    "import os\n",
    "from glob import glob\n",
    "# not needed in Kaggle, but required in Jupyter\n",
    "%matplotlib inline "
   ]
  },
  {
   "cell_type": "code",
   "execution_count": 5,
   "id": "a31cc48e",
   "metadata": {
    "execution": {
     "iopub.execute_input": "2022-04-28T20:29:29.295921Z",
     "iopub.status.busy": "2022-04-28T20:29:29.295346Z",
     "iopub.status.idle": "2022-04-28T20:29:56.505906Z",
     "shell.execute_reply": "2022-04-28T20:29:56.505160Z"
    },
    "id": "Hx4bUm2Ft9Pb",
    "outputId": "764b3c3b-1886-43af-d3b3-e462df67a3b0",
    "papermill": {
     "duration": 27.242506,
     "end_time": "2022-04-28T20:29:56.507843",
     "exception": false,
     "start_time": "2022-04-28T20:29:29.265337",
     "status": "completed"
    },
    "tags": []
   },
   "outputs": [
    {
     "name": "stdout",
     "output_type": "stream",
     "text": [
      "9204 images found of 34366 total\n"
     ]
    },
    {
     "data": {
      "text/html": [
       "<div>\n",
       "<style scoped>\n",
       "    .dataframe tbody tr th:only-of-type {\n",
       "        vertical-align: middle;\n",
       "    }\n",
       "\n",
       "    .dataframe tbody tr th {\n",
       "        vertical-align: top;\n",
       "    }\n",
       "\n",
       "    .dataframe thead th {\n",
       "        text-align: right;\n",
       "    }\n",
       "</style>\n",
       "<table border=\"1\" class=\"dataframe\">\n",
       "  <thead>\n",
       "    <tr style=\"text-align: right;\">\n",
       "      <th></th>\n",
       "      <th>Unnamed: 0</th>\n",
       "      <th>image</th>\n",
       "      <th>level</th>\n",
       "      <th>PatientId</th>\n",
       "      <th>path</th>\n",
       "      <th>exists</th>\n",
       "      <th>eye</th>\n",
       "      <th>level_cat</th>\n",
       "    </tr>\n",
       "  </thead>\n",
       "  <tbody>\n",
       "    <tr>\n",
       "      <th>10168</th>\n",
       "      <td>10928</td>\n",
       "      <td>13743_left</td>\n",
       "      <td>0</td>\n",
       "      <td>13743</td>\n",
       "      <td>../input/eye-dataset/Eye_PACS/input/diabetic-r...</td>\n",
       "      <td>True</td>\n",
       "      <td>1</td>\n",
       "      <td>[1.0, 0.0, 0.0, 0.0, 0.0]</td>\n",
       "    </tr>\n",
       "    <tr>\n",
       "      <th>11030</th>\n",
       "      <td>11790</td>\n",
       "      <td>14805_left</td>\n",
       "      <td>0</td>\n",
       "      <td>14805</td>\n",
       "      <td>../input/eye-dataset/Eye_PACS/input/diabetic-r...</td>\n",
       "      <td>True</td>\n",
       "      <td>1</td>\n",
       "      <td>[1.0, 0.0, 0.0, 0.0, 0.0]</td>\n",
       "    </tr>\n",
       "    <tr>\n",
       "      <th>9012</th>\n",
       "      <td>9504</td>\n",
       "      <td>11962_left</td>\n",
       "      <td>2</td>\n",
       "      <td>11962</td>\n",
       "      <td>../input/eye-dataset/Eye_PACS/input/diabetic-r...</td>\n",
       "      <td>True</td>\n",
       "      <td>1</td>\n",
       "      <td>[0.0, 0.0, 1.0, 0.0, 0.0]</td>\n",
       "    </tr>\n",
       "    <tr>\n",
       "      <th>12959</th>\n",
       "      <td>13719</td>\n",
       "      <td>17209_right</td>\n",
       "      <td>0</td>\n",
       "      <td>17209</td>\n",
       "      <td>../input/eye-dataset/Eye_PACS/input/diabetic-r...</td>\n",
       "      <td>True</td>\n",
       "      <td>0</td>\n",
       "      <td>[1.0, 0.0, 0.0, 0.0, 0.0]</td>\n",
       "    </tr>\n",
       "    <tr>\n",
       "      <th>13407</th>\n",
       "      <td>14167</td>\n",
       "      <td>17792_right</td>\n",
       "      <td>0</td>\n",
       "      <td>17792</td>\n",
       "      <td>../input/eye-dataset/Eye_PACS/input/diabetic-r...</td>\n",
       "      <td>True</td>\n",
       "      <td>0</td>\n",
       "      <td>[1.0, 0.0, 0.0, 0.0, 0.0]</td>\n",
       "    </tr>\n",
       "    <tr>\n",
       "      <th>15584</th>\n",
       "      <td>16344</td>\n",
       "      <td>20477_left</td>\n",
       "      <td>0</td>\n",
       "      <td>20477</td>\n",
       "      <td>../input/eye-dataset/Eye_PACS/input/diabetic-r...</td>\n",
       "      <td>True</td>\n",
       "      <td>1</td>\n",
       "      <td>[1.0, 0.0, 0.0, 0.0, 0.0]</td>\n",
       "    </tr>\n",
       "    <tr>\n",
       "      <th>14661</th>\n",
       "      <td>15421</td>\n",
       "      <td>19314_right</td>\n",
       "      <td>0</td>\n",
       "      <td>19314</td>\n",
       "      <td>../input/eye-dataset/Eye_PACS/input/diabetic-r...</td>\n",
       "      <td>True</td>\n",
       "      <td>0</td>\n",
       "      <td>[1.0, 0.0, 0.0, 0.0, 0.0]</td>\n",
       "    </tr>\n",
       "    <tr>\n",
       "      <th>16211</th>\n",
       "      <td>16971</td>\n",
       "      <td>21280_right</td>\n",
       "      <td>0</td>\n",
       "      <td>21280</td>\n",
       "      <td>../input/eye-dataset/Eye_PACS/input/diabetic-r...</td>\n",
       "      <td>True</td>\n",
       "      <td>0</td>\n",
       "      <td>[1.0, 0.0, 0.0, 0.0, 0.0]</td>\n",
       "    </tr>\n",
       "    <tr>\n",
       "      <th>8848</th>\n",
       "      <td>9270</td>\n",
       "      <td>11647_left</td>\n",
       "      <td>2</td>\n",
       "      <td>11647</td>\n",
       "      <td>../input/eye-dataset/Eye_PACS/input/diabetic-r...</td>\n",
       "      <td>True</td>\n",
       "      <td>1</td>\n",
       "      <td>[0.0, 0.0, 1.0, 0.0, 0.0]</td>\n",
       "    </tr>\n",
       "    <tr>\n",
       "      <th>16404</th>\n",
       "      <td>17164</td>\n",
       "      <td>21546_left</td>\n",
       "      <td>0</td>\n",
       "      <td>21546</td>\n",
       "      <td>../input/eye-dataset/Eye_PACS/input/diabetic-r...</td>\n",
       "      <td>True</td>\n",
       "      <td>1</td>\n",
       "      <td>[1.0, 0.0, 0.0, 0.0, 0.0]</td>\n",
       "    </tr>\n",
       "  </tbody>\n",
       "</table>\n",
       "</div>"
      ],
      "text/plain": [
       "       Unnamed: 0        image  level PatientId  \\\n",
       "10168       10928   13743_left      0     13743   \n",
       "11030       11790   14805_left      0     14805   \n",
       "9012         9504   11962_left      2     11962   \n",
       "12959       13719  17209_right      0     17209   \n",
       "13407       14167  17792_right      0     17792   \n",
       "15584       16344   20477_left      0     20477   \n",
       "14661       15421  19314_right      0     19314   \n",
       "16211       16971  21280_right      0     21280   \n",
       "8848         9270   11647_left      2     11647   \n",
       "16404       17164   21546_left      0     21546   \n",
       "\n",
       "                                                    path  exists  eye  \\\n",
       "10168  ../input/eye-dataset/Eye_PACS/input/diabetic-r...    True    1   \n",
       "11030  ../input/eye-dataset/Eye_PACS/input/diabetic-r...    True    1   \n",
       "9012   ../input/eye-dataset/Eye_PACS/input/diabetic-r...    True    1   \n",
       "12959  ../input/eye-dataset/Eye_PACS/input/diabetic-r...    True    0   \n",
       "13407  ../input/eye-dataset/Eye_PACS/input/diabetic-r...    True    0   \n",
       "15584  ../input/eye-dataset/Eye_PACS/input/diabetic-r...    True    1   \n",
       "14661  ../input/eye-dataset/Eye_PACS/input/diabetic-r...    True    0   \n",
       "16211  ../input/eye-dataset/Eye_PACS/input/diabetic-r...    True    0   \n",
       "8848   ../input/eye-dataset/Eye_PACS/input/diabetic-r...    True    1   \n",
       "16404  ../input/eye-dataset/Eye_PACS/input/diabetic-r...    True    1   \n",
       "\n",
       "                       level_cat  \n",
       "10168  [1.0, 0.0, 0.0, 0.0, 0.0]  \n",
       "11030  [1.0, 0.0, 0.0, 0.0, 0.0]  \n",
       "9012   [0.0, 0.0, 1.0, 0.0, 0.0]  \n",
       "12959  [1.0, 0.0, 0.0, 0.0, 0.0]  \n",
       "13407  [1.0, 0.0, 0.0, 0.0, 0.0]  \n",
       "15584  [1.0, 0.0, 0.0, 0.0, 0.0]  \n",
       "14661  [1.0, 0.0, 0.0, 0.0, 0.0]  \n",
       "16211  [1.0, 0.0, 0.0, 0.0, 0.0]  \n",
       "8848   [0.0, 0.0, 1.0, 0.0, 0.0]  \n",
       "16404  [1.0, 0.0, 0.0, 0.0, 0.0]  "
      ]
     },
     "execution_count": 5,
     "metadata": {},
     "output_type": "execute_result"
    }
   ],
   "source": [
    "base_image_dir = os.path.join('../input/eye-dataset/Eye_PACS', 'input', 'diabetic-retinopathy-detection')\n",
    "retina_df = pd.read_csv(os.path.join(base_image_dir, 'Train_labels.csv'))\n",
    "retina_df['PatientId'] = retina_df['image'].map(lambda x: x.split('_')[0])\n",
    "retina_df['path'] = retina_df['image'].map(lambda x: os.path.join(base_image_dir,'train_512/'\n",
    "                                                         '{}.jpeg'.format(x)))\n",
    "retina_df['exists'] = retina_df['path'].map(os.path.exists)\n",
    "print(retina_df['exists'].sum(), 'images found of', retina_df.shape[0], 'total')\n",
    "retina_df['eye'] = retina_df['image'].map(lambda x: 1 if x.split('_')[-1]=='left' else 0)\n",
    "from keras.utils.np_utils import to_categorical\n",
    "retina_df['level_cat'] = retina_df['level'].map(lambda x: to_categorical(x, 1+retina_df['level'].max()))\n",
    "\n",
    "retina_df.dropna(inplace = True)\n",
    "retina_df = retina_df[retina_df['exists']]\n",
    "retina_df.sample(10)"
   ]
  },
  {
   "cell_type": "code",
   "execution_count": 6,
   "id": "8bd3f53a",
   "metadata": {
    "execution": {
     "iopub.execute_input": "2022-04-28T20:29:56.577195Z",
     "iopub.status.busy": "2022-04-28T20:29:56.576998Z",
     "iopub.status.idle": "2022-04-28T20:29:56.935195Z",
     "shell.execute_reply": "2022-04-28T20:29:56.934518Z"
    },
    "id": "6Zf0Bdapt9Pc",
    "outputId": "aa3908bc-3b4f-4a8d-844a-cc92493ae410",
    "papermill": {
     "duration": 0.393022,
     "end_time": "2022-04-28T20:29:56.937007",
     "exception": false,
     "start_time": "2022-04-28T20:29:56.543985",
     "status": "completed"
    },
    "tags": []
   },
   "outputs": [
    {
     "data": {
      "text/plain": [
       "array([[<AxesSubplot:title={'center':'level'}>,\n",
       "        <AxesSubplot:title={'center':'eye'}>]], dtype=object)"
      ]
     },
     "execution_count": 6,
     "metadata": {},
     "output_type": "execute_result"
    },
    {
     "data": {
      "image/png": "[encoded data removed]",
      "text/plain": [
       "<Figure size 720x360 with 2 Axes>"
      ]
     },
     "metadata": {
      "needs_background": "light"
     },
     "output_type": "display_data"
    }
   ],
   "source": [
    "retina_df[['level', 'eye']].hist(figsize = (10, 5))"
   ]
  },
  {
   "cell_type": "code",
   "execution_count": 7,
   "id": "bd3f3ac8",
   "metadata": {
    "execution": {
     "iopub.execute_input": "2022-04-28T20:29:57.000398Z",
     "iopub.status.busy": "2022-04-28T20:29:57.000166Z",
     "iopub.status.idle": "2022-04-28T20:29:57.026746Z",
     "shell.execute_reply": "2022-04-28T20:29:57.025997Z"
    },
    "id": "PoIE7cRct9Pd",
    "outputId": "bd37cb72-002b-4b9e-b13e-3514d4ae7d71",
    "papermill": {
     "duration": 0.060061,
     "end_time": "2022-04-28T20:29:57.028439",
     "exception": false,
     "start_time": "2022-04-28T20:29:56.968378",
     "status": "completed"
    },
    "tags": []
   },
   "outputs": [
    {
     "name": "stdout",
     "output_type": "stream",
     "text": [
      "train 7082 validation 1366 test 1394\n"
     ]
    }
   ],
   "source": [
    "from sklearn.model_selection import train_test_split\n",
    "rr_df = retina_df[['PatientId', 'level']].drop_duplicates()\n",
    "train_ids, valid_ids = train_test_split(rr_df['PatientId'], \n",
    "                                   test_size = 0.25, \n",
    "                                   random_state = 2018,\n",
    "                                   stratify = rr_df['level'])\n",
    "raw_train_df = retina_df[retina_df['PatientId'].isin(train_ids)]\n",
    "valid_df = retina_df[retina_df['PatientId'].isin(valid_ids)]\n",
    "rr_df = valid_df[['PatientId', 'level']].drop_duplicates()\n",
    "valid_ids, test_ids = train_test_split(rr_df['PatientId'], \n",
    "                                   test_size = 0.5, \n",
    "                                   random_state = 2018,\n",
    "                                   stratify = rr_df['level'])\n",
    "valid_df = retina_df[retina_df['PatientId'].isin(valid_ids)]\n",
    "test_df = retina_df[retina_df['PatientId'].isin(test_ids)]\n",
    "print('train', raw_train_df.shape[0], 'validation', valid_df.shape[0], 'test', test_df.shape[0])"
   ]
  },
  {
   "cell_type": "code",
   "execution_count": 8,
   "id": "f37b675f",
   "metadata": {
    "execution": {
     "iopub.execute_input": "2022-04-28T20:29:57.092378Z",
     "iopub.status.busy": "2022-04-28T20:29:57.091890Z",
     "iopub.status.idle": "2022-04-28T20:29:57.256747Z",
     "shell.execute_reply": "2022-04-28T20:29:57.256010Z"
    },
    "id": "ytHWCYQSt9Pe",
    "outputId": "f9372274-fdd7-472e-aa1a-4a103468d52a",
    "papermill": {
     "duration": 0.19973,
     "end_time": "2022-04-28T20:29:57.259228",
     "exception": false,
     "start_time": "2022-04-28T20:29:57.059498",
     "status": "completed"
    },
    "tags": []
   },
   "outputs": [
    {
     "name": "stdout",
     "output_type": "stream",
     "text": [
      "90    0\n",
      "91    0\n",
      "92    0\n",
      "93    0\n",
      "96    0\n",
      "Name: level, dtype: int64\n",
      "[0 1 2 3 4] [5118  520 1118  183  143]\n",
      "[0.27732279 0.92657441 0.84213499 0.97415984 0.97980796]\n"
     ]
    },
    {
     "data": {
      "text/plain": [
       "<AxesSubplot:xlabel='level', ylabel='count'>"
      ]
     },
     "execution_count": 8,
     "metadata": {},
     "output_type": "execute_result"
    },
    {
     "data": {
      "image/png": "[encoded data removed]",
      "text/plain": [
       "<Figure size 432x288 with 1 Axes>"
      ]
     },
     "metadata": {
      "needs_background": "light"
     },
     "output_type": "display_data"
    }
   ],
   "source": [
    "print(raw_train_df['level'].head())\n",
    "(unique,counts) = np.unique(np.array(raw_train_df['level']),return_counts=True)\n",
    "print(unique,counts)\n",
    "weights = [0,0,0,0,0]\n",
    "weights = (np.sum(counts) - counts) / np.sum(counts)\n",
    "print(weights)\n",
    "sns.countplot(raw_train_df['level'])"
   ]
  },
  {
   "cell_type": "code",
   "execution_count": 9,
   "id": "88dabc07",
   "metadata": {
    "execution": {
     "iopub.execute_input": "2022-04-28T20:29:57.328778Z",
     "iopub.status.busy": "2022-04-28T20:29:57.328584Z",
     "iopub.status.idle": "2022-04-28T20:29:57.684481Z",
     "shell.execute_reply": "2022-04-28T20:29:57.683795Z"
    },
    "papermill": {
     "duration": 0.390922,
     "end_time": "2022-04-28T20:29:57.686303",
     "exception": false,
     "start_time": "2022-04-28T20:29:57.295381",
     "status": "completed"
    },
    "tags": []
   },
   "outputs": [
    {
     "name": "stdout",
     "output_type": "stream",
     "text": [
      "New Data Size: 7500 Old Size: 7082\n"
     ]
    },
    {
     "data": {
      "text/plain": [
       "array([[<AxesSubplot:title={'center':'level'}>,\n",
       "        <AxesSubplot:title={'center':'eye'}>]], dtype=object)"
      ]
     },
     "execution_count": 9,
     "metadata": {},
     "output_type": "execute_result"
    },
    {
     "data": {
      "image/png": "[encoded data removed]",
      "text/plain": [
       "<Figure size 720x360 with 2 Axes>"
      ]
     },
     "metadata": {
      "needs_background": "light"
     },
     "output_type": "display_data"
    }
   ],
   "source": [
    " train_df = raw_train_df.groupby(['level', 'eye']).apply(lambda x: x.sample(750, replace = True)).reset_index(drop = True)\n",
    " print('New Data Size:', train_df.shape[0], 'Old Size:', raw_train_df.shape[0])\n",
    " train_df[['level', 'eye']].hist(figsize = (10, 5))"
   ]
  },
  {
   "cell_type": "code",
   "execution_count": 10,
   "id": "c6f5f509",
   "metadata": {
    "execution": {
     "iopub.execute_input": "2022-04-28T20:29:57.759734Z",
     "iopub.status.busy": "2022-04-28T20:29:57.759080Z",
     "iopub.status.idle": "2022-04-28T20:29:57.764728Z",
     "shell.execute_reply": "2022-04-28T20:29:57.764082Z"
    },
    "papermill": {
     "duration": 0.044215,
     "end_time": "2022-04-28T20:29:57.766549",
     "exception": false,
     "start_time": "2022-04-28T20:29:57.722334",
     "status": "completed"
    },
    "tags": []
   },
   "outputs": [],
   "source": [
    "transform = albu.Compose([\n",
    "    albu.HorizontalFlip(p=0.5),\n",
    "    albu.VerticalFlip(p=0.5),\n",
    "    albu.CropAndPad (percent = -0.2, keep_size=True, interpolation=cv2.INTER_NEAREST, p=0.5),\n",
    "    albu.ShiftScaleRotate(shift_limit=0.0625, scale_limit=0.1, rotate_limit= 15, interpolation= cv2.INTER_NEAREST,\n",
    "                                          border_mode= cv2.BORDER_REPLICATE, p=0.5)\n",
    "])"
   ]
  },
  {
   "cell_type": "code",
   "execution_count": 11,
   "id": "7c09bd25",
   "metadata": {
    "execution": {
     "iopub.execute_input": "2022-04-28T20:29:57.839697Z",
     "iopub.status.busy": "2022-04-28T20:29:57.839088Z",
     "iopub.status.idle": "2022-04-28T20:29:57.843952Z",
     "shell.execute_reply": "2022-04-28T20:29:57.843326Z"
    },
    "id": "kxSkbBsUgEbH",
    "papermill": {
     "duration": 0.042697,
     "end_time": "2022-04-28T20:29:57.845637",
     "exception": false,
     "start_time": "2022-04-28T20:29:57.802940",
     "status": "completed"
    },
    "tags": []
   },
   "outputs": [],
   "source": [
    "def plot_result(img , title):\n",
    "    plt.figure(figsize=(12, 6))\n",
    "    plt.title(title)\n",
    "    for i in range(4):\n",
    "        print(img[i].shape)\n",
    "        plt.subplot(2, 4, i+1)\n",
    "        plt.imshow(img[i])\n",
    "    plt.show()"
   ]
  },
  {
   "cell_type": "code",
   "execution_count": 12,
   "id": "f9bf606a",
   "metadata": {
    "execution": {
     "iopub.execute_input": "2022-04-28T20:29:57.916090Z",
     "iopub.status.busy": "2022-04-28T20:29:57.915906Z",
     "iopub.status.idle": "2022-04-28T20:29:57.925907Z",
     "shell.execute_reply": "2022-04-28T20:29:57.925186Z"
    },
    "id": "vZ8vTImDbEbA",
    "papermill": {
     "duration": 0.045871,
     "end_time": "2022-04-28T20:29:57.927476",
     "exception": false,
     "start_time": "2022-04-28T20:29:57.881605",
     "status": "completed"
    },
    "tags": []
   },
   "outputs": [],
   "source": [
    "class DataGenerator(Sequence):\n",
    "    'Generates data for Keras'\n",
    "    \n",
    "    def __init__(self, df,  batch_size=16, dim=(224,224,3), shuffle=True,transform=transform):\n",
    "        'Initialization'\n",
    "        self.dim = dim\n",
    "        self.df = df\n",
    "        #self.class_map = class_map\n",
    "        self.batch_size = batch_size\n",
    "        self.shuffle = shuffle\n",
    "        self.on_epoch_end()\n",
    "\n",
    "    def __len__(self):\n",
    "        'Denotes the number of batches per epoch'\n",
    "        return int(np.floor(len(self.df) / self.batch_size))\n",
    "\n",
    "    def __getitem__(self, index):\n",
    "        'Generate one batch of data'\n",
    "        # Generate indexes of the batch\n",
    "        indexes = self.indexes[index*self.batch_size:(index+1)*self.batch_size]\n",
    "\n",
    "        # Find list of IDs\n",
    "        list_IDs_temp = [k for k in indexes]\n",
    "\n",
    "        # Generate data\n",
    "        X, y = self.__data_generation(list_IDs_temp)\n",
    "\n",
    "        return X, y\n",
    "    def on_epoch_end(self):\n",
    "        'Updates indexes after each epoch'\n",
    "        self.indexes = np.arange(len(self.df))\n",
    "        if self.shuffle == True:\n",
    "            np.random.shuffle(self.indexes)\n",
    "\n",
    "    def __data_generation(self, list_IDs_temp):\n",
    "        'Generates data containing batch_size samples' # X : (n_samples, *dim, n_channels)\n",
    "        # Initialization\n",
    "        batch_imgs = list()\n",
    "        batch_labels = list()\n",
    "\n",
    "        # Generate data\n",
    "        for i in list_IDs_temp:\n",
    "            # Store sample\n",
    "            img = load_img(self.df['path'][i] ,target_size=self.dim)\n",
    "#             img = cv2.fastNlMeansDenoisingColored(img,None,20,20,7,21) \n",
    "            img = img_to_array(img)/255.\n",
    "            batch_imgs.append(img)\n",
    "\n",
    "            label = self.df['level_cat'][i]\n",
    "            batch_labels.append(label)\n",
    "\n",
    "        return np.array(batch_imgs) ,np.array(batch_labels)"
   ]
  },
  {
   "cell_type": "code",
   "execution_count": 13,
   "id": "e54c6997",
   "metadata": {
    "execution": {
     "iopub.execute_input": "2022-04-28T20:29:57.995747Z",
     "iopub.status.busy": "2022-04-28T20:29:57.995370Z",
     "iopub.status.idle": "2022-04-28T20:29:58.002061Z",
     "shell.execute_reply": "2022-04-28T20:29:58.001483Z"
    },
    "papermill": {
     "duration": 0.042513,
     "end_time": "2022-04-28T20:29:58.003652",
     "exception": false,
     "start_time": "2022-04-28T20:29:57.961139",
     "status": "completed"
    },
    "tags": []
   },
   "outputs": [],
   "source": [
    "raw_train_df = raw_train_df.reset_index()\n",
    "test_df = test_df.reset_index()\n",
    "valid_df = valid_df.reset_index()"
   ]
  },
  {
   "cell_type": "code",
   "execution_count": 14,
   "id": "6bd11bfe",
   "metadata": {
    "execution": {
     "iopub.execute_input": "2022-04-28T20:29:58.072190Z",
     "iopub.status.busy": "2022-04-28T20:29:58.071670Z",
     "iopub.status.idle": "2022-04-28T20:29:58.127521Z",
     "shell.execute_reply": "2022-04-28T20:29:58.125966Z"
    },
    "id": "Qk-39d2q_g-8",
    "outputId": "5a3c631c-af39-4e7c-c5ae-5eb0f3e1814c",
    "papermill": {
     "duration": 0.092525,
     "end_time": "2022-04-28T20:29:58.129600",
     "exception": false,
     "start_time": "2022-04-28T20:29:58.037075",
     "status": "completed"
    },
    "tags": []
   },
   "outputs": [
    {
     "name": "stdout",
     "output_type": "stream",
     "text": [
      "[[0. 0. 1. 0. 0.]\n",
      " [0. 0. 0. 1. 0.]\n",
      " [0. 0. 0. 0. 1.]\n",
      " [0. 0. 0. 0. 1.]]\n",
      "(4, 512, 512, 3) (4, 5)\n"
     ]
    }
   ],
   "source": [
    "img_size = 512\n",
    "#class_map = class_palette()\n",
    "\n",
    "# train_generator1 = DataGenerator(raw_train_df,batch_size=4, dim=(img_size,img_size,3) ,shuffle=True)\n",
    "train_generator1 = DataGenerator(train_df,batch_size=4, dim=(img_size,img_size,3) ,shuffle=True)\n",
    "X,y = train_generator1.__getitem__(0)\n",
    "print(y)\n",
    "print(X.shape, y.shape)"
   ]
  },
  {
   "cell_type": "code",
   "execution_count": 15,
   "id": "16afe8a5",
   "metadata": {
    "execution": {
     "iopub.execute_input": "2022-04-28T20:29:58.199870Z",
     "iopub.status.busy": "2022-04-28T20:29:58.199202Z",
     "iopub.status.idle": "2022-04-28T20:29:58.204821Z",
     "shell.execute_reply": "2022-04-28T20:29:58.204085Z"
    },
    "id": "gRrXwcJncqRH",
    "papermill": {
     "duration": 0.042412,
     "end_time": "2022-04-28T20:29:58.206485",
     "exception": false,
     "start_time": "2022-04-28T20:29:58.164073",
     "status": "completed"
    },
    "tags": []
   },
   "outputs": [
    {
     "data": {
      "text/plain": [
       "'train_set = RetinalDataset(train_df)\\nval_set = RetinalDataset(valid_df)\\n\\n#dataloader\\nbatch_size= 4\\n\\ntrain_loader = DataLoader(train_set, batch_size=batch_size, shuffle=True)\\nval_loader = DataLoader(val_set, batch_size=batch_size, shuffle=True) '"
      ]
     },
     "execution_count": 15,
     "metadata": {},
     "output_type": "execute_result"
    }
   ],
   "source": [
    "'''train_set = RetinalDataset(train_df)\n",
    "val_set = RetinalDataset(valid_df)\n",
    "\n",
    "#dataloader\n",
    "batch_size= 4\n",
    "\n",
    "train_loader = DataLoader(train_set, batch_size=batch_size, shuffle=True)\n",
    "val_loader = DataLoader(val_set, batch_size=batch_size, shuffle=True) '''"
   ]
  },
  {
   "cell_type": "code",
   "execution_count": 16,
   "id": "6d03eaa4",
   "metadata": {
    "execution": {
     "iopub.execute_input": "2022-04-28T20:29:58.276072Z",
     "iopub.status.busy": "2022-04-28T20:29:58.275598Z",
     "iopub.status.idle": "2022-04-28T20:29:58.279342Z",
     "shell.execute_reply": "2022-04-28T20:29:58.278672Z"
    },
    "id": "Oh6QolqMBZav",
    "papermill": {
     "duration": 0.040286,
     "end_time": "2022-04-28T20:29:58.281005",
     "exception": false,
     "start_time": "2022-04-28T20:29:58.240719",
     "status": "completed"
    },
    "tags": []
   },
   "outputs": [],
   "source": [
    "val_generator = DataGenerator(valid_df,  batch_size=4, dim=(img_size,img_size,3) ,shuffle=True)"
   ]
  },
  {
   "cell_type": "code",
   "execution_count": 17,
   "id": "3579b2d6",
   "metadata": {
    "execution": {
     "iopub.execute_input": "2022-04-28T20:29:58.350526Z",
     "iopub.status.busy": "2022-04-28T20:29:58.350047Z",
     "iopub.status.idle": "2022-04-28T20:29:58.353616Z",
     "shell.execute_reply": "2022-04-28T20:29:58.352968Z"
    },
    "papermill": {
     "duration": 0.040245,
     "end_time": "2022-04-28T20:29:58.355219",
     "exception": false,
     "start_time": "2022-04-28T20:29:58.314974",
     "status": "completed"
    },
    "tags": []
   },
   "outputs": [],
   "source": [
    "test_generator = DataGenerator(test_df,  batch_size=1, dim=(img_size,img_size,3) ,shuffle=False)"
   ]
  },
  {
   "cell_type": "code",
   "execution_count": 18,
   "id": "3b1b9bfb",
   "metadata": {
    "execution": {
     "iopub.execute_input": "2022-04-28T20:29:58.424477Z",
     "iopub.status.busy": "2022-04-28T20:29:58.423994Z",
     "iopub.status.idle": "2022-04-28T20:29:58.427194Z",
     "shell.execute_reply": "2022-04-28T20:29:58.426572Z"
    },
    "papermill": {
     "duration": 0.039706,
     "end_time": "2022-04-28T20:29:58.428905",
     "exception": false,
     "start_time": "2022-04-28T20:29:58.389199",
     "status": "completed"
    },
    "tags": []
   },
   "outputs": [],
   "source": [
    "import os\n",
    "os.environ[\"CUDA_VISIBLE_DEVICES\"] = \"-1\""
   ]
  },
  {
   "cell_type": "markdown",
   "id": "4fa314ac",
   "metadata": {
    "papermill": {
     "duration": 0.034575,
     "end_time": "2022-04-28T20:29:58.498031",
     "exception": false,
     "start_time": "2022-04-28T20:29:58.463456",
     "status": "completed"
    },
    "tags": []
   },
   "source": [
    "# VGG19 Model"
   ]
  },
  {
   "cell_type": "markdown",
   "id": "1f3a5157",
   "metadata": {
    "papermill": {
     "duration": 0.034141,
     "end_time": "2022-04-28T20:29:58.566645",
     "exception": false,
     "start_time": "2022-04-28T20:29:58.532504",
     "status": "completed"
    },
    "tags": []
   },
   "source": []
  },
  {
   "cell_type": "code",
   "execution_count": 19,
   "id": "3d25e07e",
   "metadata": {
    "execution": {
     "iopub.execute_input": "2022-04-28T20:29:58.636867Z",
     "iopub.status.busy": "2022-04-28T20:29:58.636670Z",
     "iopub.status.idle": "2022-04-28T20:29:58.645323Z",
     "shell.execute_reply": "2022-04-28T20:29:58.644689Z"
    },
    "id": "cmtNm5S8BuXX",
    "papermill": {
     "duration": 0.045425,
     "end_time": "2022-04-28T20:29:58.646968",
     "exception": false,
     "start_time": "2022-04-28T20:29:58.601543",
     "status": "completed"
    },
    "tags": []
   },
   "outputs": [],
   "source": [
    "'''VGG16 model for Keras.\n",
    "# Reference:\n",
    "- [Very Deep Convolutional Networks for Large-Scale Image Recognition](https://arxiv.org/abs/1409.1556)\n",
    "'''\n",
    "\n",
    "\n",
    "from __future__ import print_function\n",
    "from sklearn.metrics import confusion_matrix\n",
    "import numpy as np\n",
    "import warnings\n",
    "from tensorflow.keras import regularizers\n",
    "from keras.models import Sequential\n",
    "from keras import layers\n",
    "from keras.layers import Conv2D, MaxPooling2D, Dropout, Flatten, Dense, Activation,GlobalMaxPooling2D\n",
    "from keras import applications\n",
    "from keras.preprocessing.image import ImageDataGenerator\n",
    "from keras import optimizers\n",
    "from keras.models import Model\n",
    "\n",
    "import warnings\n",
    "warnings.filterwarnings(\"ignore\")\n",
    "from keras import applications\n",
    "from keras.applications import *\n",
    "from keras.models import Model\n",
    "from keras.layers import Flatten\n",
    "from keras.layers import Dense\n",
    "from keras.layers import Input\n",
    "from keras.layers import Conv2D\n",
    "from keras.layers import MaxPooling2D\n",
    "from keras.layers import GlobalMaxPooling2D\n",
    "from keras.layers import GlobalAveragePooling2D\n",
    "from keras.preprocessing import image\n",
    "from keras.utils import layer_utils\n",
    "from keras.utils.data_utils import get_file\n",
    "from keras import backend as K\n",
    "from tensorflow.keras import regularizers\n",
    "from tensorflow.keras.optimizers import Adam, Adamax\n"
   ]
  },
  {
   "cell_type": "code",
   "execution_count": 20,
   "id": "13751eed",
   "metadata": {
    "execution": {
     "iopub.execute_input": "2022-04-28T20:29:58.716394Z",
     "iopub.status.busy": "2022-04-28T20:29:58.715720Z",
     "iopub.status.idle": "2022-04-28T20:29:58.719420Z",
     "shell.execute_reply": "2022-04-28T20:29:58.718803Z"
    },
    "papermill": {
     "duration": 0.040076,
     "end_time": "2022-04-28T20:29:58.721016",
     "exception": false,
     "start_time": "2022-04-28T20:29:58.680940",
     "status": "completed"
    },
    "tags": []
   },
   "outputs": [],
   "source": [
    "# model = tf.keras.applications.ResNet50V2(\n",
    "#     include_top=True,\n",
    "#     weights=None,\n",
    "#     input_tensor=None,\n",
    "#     input_shape=(512,512,3),\n",
    "#     pooling=None,\n",
    "#     classes=5,\n",
    "#     classifier_activation=\"softmax\",\n",
    "# )\n",
    "# model.compile(loss=\"categorical_crossentropy\",loss_weights = weights,optimizer=\"adam\",metrics=[\"accuracy\"])\n",
    "# # model.summary()"
   ]
  },
  {
   "cell_type": "code",
   "execution_count": 21,
   "id": "9e57ec02",
   "metadata": {
    "execution": {
     "iopub.execute_input": "2022-04-28T20:29:58.791744Z",
     "iopub.status.busy": "2022-04-28T20:29:58.791222Z",
     "iopub.status.idle": "2022-04-28T20:29:58.794789Z",
     "shell.execute_reply": "2022-04-28T20:29:58.794169Z"
    },
    "papermill": {
     "duration": 0.040182,
     "end_time": "2022-04-28T20:29:58.796442",
     "exception": false,
     "start_time": "2022-04-28T20:29:58.756260",
     "status": "completed"
    },
    "tags": []
   },
   "outputs": [],
   "source": [
    "# ini_input=keras.Input(shape=(512,512,3),name=\"image\")\n",
    "\n",
    "# x1=layers.Conv2D(64,(22,22),strides=2)(ini_input)\n",
    "# x1=layers.MaxPooling2D((4,4))(x1)\n",
    "# x1=layers.BatchNormalization()(x1)\n",
    "\n",
    "# x2=layers.Conv2D(128,(11,11),strides=2,padding=\"same\")(x1)\n",
    "# x2=layers.MaxPooling2D((2,2))(x2)\n",
    "# x2=layers.BatchNormalization()(x2)\n",
    "\n",
    "# x3=layers.Conv2D(256,(7,7),strides=2,padding=\"same\")(x2)\n",
    "# x3=layers.MaxPooling2D((2,2))(x3)\n",
    "# x3=layers.BatchNormalization()(x3)\n",
    "\n",
    "# x4=layers.Flatten()(x3)\n",
    "# x4=layers.Activation(\"relu\")(x4)\n",
    "\n",
    "# x5=layers.Dense(1024,\"relu\")(x4)\n",
    "\n",
    "# x6=layers.Dense(256,\"relu\")(x5)\n",
    "\n",
    "# x9=layers.Dense(5)(x6)\n",
    "# pred=layers.Activation(\"softmax\")(x9)\n",
    "\n",
    "# model=keras.Model(inputs=ini_input,outputs=pred)\n",
    "\n",
    "# model.compile(loss=\"categorical_crossentropy\",loss_weights = weights,optimizer=\"adam\",metrics=[\"accuracy\"])\n",
    "# model.summary()"
   ]
  },
  {
   "cell_type": "code",
   "execution_count": 22,
   "id": "1682baa1",
   "metadata": {
    "execution": {
     "iopub.execute_input": "2022-04-28T20:29:58.865970Z",
     "iopub.status.busy": "2022-04-28T20:29:58.865521Z",
     "iopub.status.idle": "2022-04-28T20:30:09.107803Z",
     "shell.execute_reply": "2022-04-28T20:30:09.106999Z"
    },
    "papermill": {
     "duration": 10.279145,
     "end_time": "2022-04-28T20:30:09.109839",
     "exception": false,
     "start_time": "2022-04-28T20:29:58.830694",
     "status": "completed"
    },
    "tags": []
   },
   "outputs": [
    {
     "name": "stderr",
     "output_type": "stream",
     "text": [
      "2022-04-28 20:29:58.896759: I tensorflow/stream_executor/cuda/cuda_gpu_executor.cc:937] successful NUMA node read from SysFS had negative value (-1), but there must be at least one NUMA node, so returning NUMA node zero\n",
      "2022-04-28 20:29:58.897893: I tensorflow/stream_executor/cuda/cuda_gpu_executor.cc:937] successful NUMA node read from SysFS had negative value (-1), but there must be at least one NUMA node, so returning NUMA node zero\n",
      "2022-04-28 20:29:58.898576: I tensorflow/stream_executor/cuda/cuda_gpu_executor.cc:937] successful NUMA node read from SysFS had negative value (-1), but there must be at least one NUMA node, so returning NUMA node zero\n",
      "2022-04-28 20:29:58.899351: I tensorflow/core/platform/cpu_feature_guard.cc:142] This TensorFlow binary is optimized with oneAPI Deep Neural Network Library (oneDNN) to use the following CPU instructions in performance-critical operations:  AVX2 AVX512F FMA\n",
      "To enable them in other operations, rebuild TensorFlow with the appropriate compiler flags.\n",
      "2022-04-28 20:29:58.899636: I tensorflow/stream_executor/cuda/cuda_gpu_executor.cc:937] successful NUMA node read from SysFS had negative value (-1), but there must be at least one NUMA node, so returning NUMA node zero\n",
      "2022-04-28 20:29:58.900336: I tensorflow/stream_executor/cuda/cuda_gpu_executor.cc:937] successful NUMA node read from SysFS had negative value (-1), but there must be at least one NUMA node, so returning NUMA node zero\n",
      "2022-04-28 20:29:58.901039: I tensorflow/stream_executor/cuda/cuda_gpu_executor.cc:937] successful NUMA node read from SysFS had negative value (-1), but there must be at least one NUMA node, so returning NUMA node zero\n",
      "2022-04-28 20:30:03.334506: I tensorflow/stream_executor/cuda/cuda_gpu_executor.cc:937] successful NUMA node read from SysFS had negative value (-1), but there must be at least one NUMA node, so returning NUMA node zero\n",
      "2022-04-28 20:30:03.335745: I tensorflow/stream_executor/cuda/cuda_gpu_executor.cc:937] successful NUMA node read from SysFS had negative value (-1), but there must be at least one NUMA node, so returning NUMA node zero\n",
      "2022-04-28 20:30:03.337500: I tensorflow/stream_executor/cuda/cuda_gpu_executor.cc:937] successful NUMA node read from SysFS had negative value (-1), but there must be at least one NUMA node, so returning NUMA node zero\n",
      "2022-04-28 20:30:03.339227: I tensorflow/core/common_runtime/gpu/gpu_device.cc:1510] Created device /job:localhost/replica:0/task:0/device:GPU:0 with 14969 MB memory:  -> device: 0, name: Tesla P100-PCIE-16GB, pci bus id: 0000:00:04.0, compute capability: 6.0\n"
     ]
    },
    {
     "name": "stdout",
     "output_type": "stream",
     "text": [
      "Downloading data from https://storage.googleapis.com/tensorflow/keras-applications/densenet/densenet169_weights_tf_dim_ordering_tf_kernels_notop.h5\n",
      "51879936/51877672 [==============================] - 0s 0us/step\n",
      "51888128/51877672 [==============================] - 0s 0us/step\n",
      "Model: \"sequential\"\n",
      "_________________________________________________________________\n",
      "Layer (type)                 Output Shape              Param #   \n",
      "=================================================================\n",
      "densenet169 (Functional)     (None, 16, 16, 1664)      12642880  \n",
      "_________________________________________________________________\n",
      "flatten (Flatten)            (None, 425984)            0         \n",
      "_________________________________________________________________\n",
      "batch_normalization (BatchNo (None, 425984)            1703936   \n",
      "_________________________________________________________________\n",
      "dense (Dense)                (None, 64)                27263040  \n",
      "_________________________________________________________________\n",
      "batch_normalization_1 (Batch (None, 64)                256       \n",
      "_________________________________________________________________\n",
      "activation (Activation)      (None, 64)                0         \n",
      "_________________________________________________________________\n",
      "dropout (Dropout)            (None, 64)                0         \n",
      "_________________________________________________________________\n",
      "dense_1 (Dense)              (None, 5)                 325       \n",
      "=================================================================\n",
      "Total params: 41,610,437\n",
      "Trainable params: 28,115,461\n",
      "Non-trainable params: 13,494,976\n",
      "_________________________________________________________________\n"
     ]
    }
   ],
   "source": [
    "# Initializing a Sequential model\n",
    "model = Sequential()\n",
    "# model.add(VGG19(input_shape=(512,512,3),include_top=False,weights='imagenet'))\n",
    "model1 = tf.keras.applications.DenseNet169(input_shape=(512,512,3),include_top=False,weights='imagenet')\n",
    "model1.trainable = False\n",
    "model.add(model1)\n",
    "model.add(Flatten())\n",
    "model.add(BatchNormalization())\n",
    "model.add(Dense(64,kernel_initializer='he_uniform'))\n",
    "model.add(BatchNormalization())\n",
    "model.add(Activation('relu'))\n",
    "model.add(Dropout(0.5))\n",
    "\n",
    "# Creating an output layer\n",
    "model.add(Dense(units= 5, activation='softmax'))\n",
    "# checkpoint_path = \"training_1/cp.ckpt\"\n",
    "# checkpoint_dir = os.path.dirname(checkpoint_path)\n",
    "\n",
    "# Create a callback that saves the model's weights\n",
    "# cp_callback = tf.keras.callbacks.ModelCheckpoint(filepath=checkpoint_path,\n",
    "#                                                  save_weights_only=True,\n",
    "#                                                  verbose=1)\n",
    "\n",
    "# Train the model with the new callback\n",
    "\n",
    "# c3=tf.keras.callbacks.ReduceLROnPlateau(\n",
    "#     monitor=\"loss\",\n",
    "#     factor=0.1,\n",
    "#     patience=2,\n",
    "#     mode=\"auto\",\n",
    "#     min_delta=0.0001,\n",
    "#     cooldown=0,\n",
    "#     min_lr=0.001\n",
    "# )\n",
    "model.compile(optimizer='adam',loss='categorical_crossentropy',loss_weights = weights, metrics=['accuracy','AUC'])\n",
    "model.summary()\n",
    "# history=model.fit(train_generator1,epochs=10,batch_size=16,validation_data=val_generator)"
   ]
  },
  {
   "cell_type": "code",
   "execution_count": 23,
   "id": "1df1c86b",
   "metadata": {
    "execution": {
     "iopub.execute_input": "2022-04-28T20:30:09.187709Z",
     "iopub.status.busy": "2022-04-28T20:30:09.187266Z",
     "iopub.status.idle": "2022-04-28T20:30:09.190797Z",
     "shell.execute_reply": "2022-04-28T20:30:09.190033Z"
    },
    "papermill": {
     "duration": 0.043931,
     "end_time": "2022-04-28T20:30:09.192603",
     "exception": false,
     "start_time": "2022-04-28T20:30:09.148672",
     "status": "completed"
    },
    "tags": []
   },
   "outputs": [],
   "source": [
    "# history=model.fit(train_generator1,epochs=50,batch_size=4,validation_data=val_generator)"
   ]
  },
  {
   "cell_type": "code",
   "execution_count": 24,
   "id": "66a7cf01",
   "metadata": {
    "execution": {
     "iopub.execute_input": "2022-04-28T20:30:09.273687Z",
     "iopub.status.busy": "2022-04-28T20:30:09.273471Z",
     "iopub.status.idle": "2022-04-28T20:30:09.277554Z",
     "shell.execute_reply": "2022-04-28T20:30:09.276846Z"
    },
    "id": "T-MNHtHXK2Ca",
    "papermill": {
     "duration": 0.047186,
     "end_time": "2022-04-28T20:30:09.279276",
     "exception": false,
     "start_time": "2022-04-28T20:30:09.232090",
     "status": "completed"
    },
    "tags": []
   },
   "outputs": [],
   "source": [
    "# img_shape=(512, 512, 3)\n",
    "# model_name='EfficientNetB5'\n",
    "# base_model=tf.keras.applications.efficientnet.EfficientNetB5(include_top=False, weights=\"imagenet\",input_shape=img_shape, pooling='max') \n",
    "# # Note you are always told NOT to make the base model trainable initially- that is WRONG you get better results leaving it trainable\n",
    "# base_model.trainable= False\n",
    "# x=base_model.output\n",
    "# x=BatchNormalization(axis=-1, momentum=0.99, epsilon=0.001 )(x)\n",
    "# x = Dense(512, kernel_regularizer = regularizers.l2(l = 0.016),activity_regularizer=regularizers.l1(0.006),\n",
    "#                 bias_regularizer=regularizers.l1(0.006) ,activation='relu')(x)\n",
    "# x=Dropout(rate=.3, seed=123)(x)\n",
    "# x = Dense(128, kernel_regularizer = regularizers.l2(l = 0.016),activity_regularizer=regularizers.l1(0.006),\n",
    "#                 bias_regularizer=regularizers.l1(0.006) ,activation='relu')(x)\n",
    "# x=Dropout(rate=.45, seed=123)(x)        \n",
    "# output=Dense(5, activation='softmax')(x)\n",
    "# model=Model(inputs=base_model.input, outputs=output)\n",
    "\n",
    "# # for layer in model.layers[:]:\n",
    "# #     print(layer.)\n",
    "# lr=.001 # start with this learning rate\n",
    "# model.compile(Adamax(learning_rate=lr), loss='categorical_crossentropy',loss_weights = weights, metrics=['accuracy']) \n",
    "# # model.summary()"
   ]
  },
  {
   "cell_type": "code",
   "execution_count": 25,
   "id": "f034e888",
   "metadata": {
    "execution": {
     "iopub.execute_input": "2022-04-28T20:30:09.357861Z",
     "iopub.status.busy": "2022-04-28T20:30:09.357465Z",
     "iopub.status.idle": "2022-04-28T22:43:29.793877Z",
     "shell.execute_reply": "2022-04-28T22:43:29.793107Z"
    },
    "id": "TERF76ziK8K7",
    "papermill": {
     "duration": 8000.478185,
     "end_time": "2022-04-28T22:43:29.796324",
     "exception": false,
     "start_time": "2022-04-28T20:30:09.318139",
     "status": "completed"
    },
    "tags": []
   },
   "outputs": [
    {
     "name": "stderr",
     "output_type": "stream",
     "text": [
      "2022-04-28 20:30:09.478541: I tensorflow/compiler/mlir/mlir_graph_optimization_pass.cc:185] None of the MLIR Optimization Passes are enabled (registered 2)\n"
     ]
    },
    {
     "name": "stdout",
     "output_type": "stream",
     "text": [
      "Epoch 1/50\n"
     ]
    },
    {
     "name": "stderr",
     "output_type": "stream",
     "text": [
      "2022-04-28 20:30:18.493621: I tensorflow/stream_executor/cuda/cuda_dnn.cc:369] Loaded cuDNN version 8005\n"
     ]
    },
    {
     "name": "stdout",
     "output_type": "stream",
     "text": [
      "1875/1875 [==============================] - 166s 81ms/step - loss: 1.1343 - accuracy: 0.4087 - auc: 0.7277 - val_loss: 0.9396 - val_accuracy: 0.4765 - val_auc: 0.8099\n",
      "Epoch 2/50\n",
      "1875/1875 [==============================] - 150s 80ms/step - loss: 0.8525 - accuracy: 0.5519 - auc: 0.8512 - val_loss: 0.8668 - val_accuracy: 0.4846 - val_auc: 0.8345\n",
      "Epoch 3/50\n",
      "1875/1875 [==============================] - 150s 80ms/step - loss: 0.7574 - accuracy: 0.6161 - auc: 0.8845 - val_loss: 0.7990 - val_accuracy: 0.5630 - val_auc: 0.8667\n",
      "Epoch 4/50\n",
      "1875/1875 [==============================] - 151s 80ms/step - loss: 0.6904 - accuracy: 0.6509 - auc: 0.9050 - val_loss: 0.7556 - val_accuracy: 0.5968 - val_auc: 0.8825\n",
      "Epoch 5/50\n",
      "1875/1875 [==============================] - 155s 83ms/step - loss: 0.6247 - accuracy: 0.6960 - auc: 0.9231 - val_loss: 0.7509 - val_accuracy: 0.5858 - val_auc: 0.8810\n",
      "Epoch 6/50\n",
      "1875/1875 [==============================] - 151s 80ms/step - loss: 0.5516 - accuracy: 0.7329 - auc: 0.9399 - val_loss: 0.7497 - val_accuracy: 0.5755 - val_auc: 0.8828\n",
      "Epoch 7/50\n",
      "1875/1875 [==============================] - 150s 80ms/step - loss: 0.5123 - accuracy: 0.7581 - auc: 0.9481 - val_loss: 0.7625 - val_accuracy: 0.5887 - val_auc: 0.8834\n",
      "Epoch 8/50\n",
      "1875/1875 [==============================] - 151s 81ms/step - loss: 0.4791 - accuracy: 0.7717 - auc: 0.9543 - val_loss: 0.7558 - val_accuracy: 0.5975 - val_auc: 0.8870\n",
      "Epoch 9/50\n",
      "1875/1875 [==============================] - 153s 81ms/step - loss: 0.4483 - accuracy: 0.7852 - auc: 0.9600 - val_loss: 0.7022 - val_accuracy: 0.6496 - val_auc: 0.9065\n",
      "Epoch 10/50\n",
      "1875/1875 [==============================] - 154s 82ms/step - loss: 0.4107 - accuracy: 0.8085 - auc: 0.9661 - val_loss: 0.7523 - val_accuracy: 0.6188 - val_auc: 0.8936\n",
      "Epoch 11/50\n",
      "1875/1875 [==============================] - 153s 82ms/step - loss: 0.3769 - accuracy: 0.8320 - auc: 0.9711 - val_loss: 0.8043 - val_accuracy: 0.5843 - val_auc: 0.8849\n",
      "Epoch 12/50\n",
      "1875/1875 [==============================] - 150s 80ms/step - loss: 0.3530 - accuracy: 0.8416 - auc: 0.9745 - val_loss: 0.7376 - val_accuracy: 0.6547 - val_auc: 0.9038\n",
      "Epoch 13/50\n",
      "1875/1875 [==============================] - 150s 80ms/step - loss: 0.3430 - accuracy: 0.8447 - auc: 0.9757 - val_loss: 0.7653 - val_accuracy: 0.6672 - val_auc: 0.9021\n",
      "Epoch 14/50\n",
      "1875/1875 [==============================] - 151s 81ms/step - loss: 0.3340 - accuracy: 0.8501 - auc: 0.9768 - val_loss: 0.7673 - val_accuracy: 0.6488 - val_auc: 0.9022\n",
      "Epoch 15/50\n",
      "1875/1875 [==============================] - 151s 81ms/step - loss: 0.3195 - accuracy: 0.8581 - auc: 0.9789 - val_loss: 0.7567 - val_accuracy: 0.6789 - val_auc: 0.9059\n",
      "Epoch 16/50\n",
      "1875/1875 [==============================] - 153s 82ms/step - loss: 0.3064 - accuracy: 0.8671 - auc: 0.9801 - val_loss: 0.8421 - val_accuracy: 0.6283 - val_auc: 0.8923\n",
      "Epoch 17/50\n",
      "1875/1875 [==============================] - 153s 81ms/step - loss: 0.2765 - accuracy: 0.8804 - auc: 0.9839 - val_loss: 0.8214 - val_accuracy: 0.6474 - val_auc: 0.9008\n",
      "Epoch 18/50\n",
      "1875/1875 [==============================] - 152s 81ms/step - loss: 0.2712 - accuracy: 0.8792 - auc: 0.9842 - val_loss: 0.8206 - val_accuracy: 0.6532 - val_auc: 0.9014\n",
      "Epoch 19/50\n",
      "1875/1875 [==============================] - 153s 82ms/step - loss: 0.2691 - accuracy: 0.8856 - auc: 0.9844 - val_loss: 0.8942 - val_accuracy: 0.6364 - val_auc: 0.8910\n",
      "Epoch 20/50\n",
      "1875/1875 [==============================] - 152s 81ms/step - loss: 0.2322 - accuracy: 0.8992 - auc: 0.9884 - val_loss: 0.8921 - val_accuracy: 0.6452 - val_auc: 0.8910\n",
      "Epoch 21/50\n",
      "1875/1875 [==============================] - 154s 82ms/step - loss: 0.2354 - accuracy: 0.8983 - auc: 0.9878 - val_loss: 0.8961 - val_accuracy: 0.6415 - val_auc: 0.8917\n",
      "Epoch 22/50\n",
      "1875/1875 [==============================] - 154s 82ms/step - loss: 0.2428 - accuracy: 0.8972 - auc: 0.9869 - val_loss: 0.9348 - val_accuracy: 0.6334 - val_auc: 0.8870\n",
      "Epoch 23/50\n",
      "1875/1875 [==============================] - 155s 83ms/step - loss: 0.2349 - accuracy: 0.8987 - auc: 0.9879 - val_loss: 0.9134 - val_accuracy: 0.6540 - val_auc: 0.8939\n",
      "Epoch 24/50\n",
      "1875/1875 [==============================] - 148s 79ms/step - loss: 0.2262 - accuracy: 0.9049 - auc: 0.9888 - val_loss: 0.9581 - val_accuracy: 0.6415 - val_auc: 0.8855\n",
      "Epoch 25/50\n",
      "1875/1875 [==============================] - 146s 78ms/step - loss: 0.2114 - accuracy: 0.9105 - auc: 0.9897 - val_loss: 0.9243 - val_accuracy: 0.6650 - val_auc: 0.8953\n",
      "Epoch 26/50\n",
      "1875/1875 [==============================] - 155s 83ms/step - loss: 0.2064 - accuracy: 0.9125 - auc: 0.9902 - val_loss: 0.9654 - val_accuracy: 0.6642 - val_auc: 0.8914\n",
      "Epoch 27/50\n",
      "1875/1875 [==============================] - 145s 77ms/step - loss: 0.1986 - accuracy: 0.9172 - auc: 0.9905 - val_loss: 0.9996 - val_accuracy: 0.6466 - val_auc: 0.8872\n",
      "Epoch 28/50\n",
      "1875/1875 [==============================] - 157s 84ms/step - loss: 0.2133 - accuracy: 0.9105 - auc: 0.9895 - val_loss: 0.9496 - val_accuracy: 0.6613 - val_auc: 0.8924\n",
      "Epoch 29/50\n",
      "1875/1875 [==============================] - 145s 78ms/step - loss: 0.1932 - accuracy: 0.9213 - auc: 0.9910 - val_loss: 0.9781 - val_accuracy: 0.6818 - val_auc: 0.8941\n",
      "Epoch 30/50\n",
      "1875/1875 [==============================] - 156s 83ms/step - loss: 0.1911 - accuracy: 0.9228 - auc: 0.9912 - val_loss: 0.9984 - val_accuracy: 0.6532 - val_auc: 0.8918\n",
      "Epoch 31/50\n",
      "1875/1875 [==============================] - 146s 78ms/step - loss: 0.1998 - accuracy: 0.9211 - auc: 0.9906 - val_loss: 1.0856 - val_accuracy: 0.6173 - val_auc: 0.8745\n",
      "Epoch 32/50\n",
      "1875/1875 [==============================] - 146s 78ms/step - loss: 0.1744 - accuracy: 0.9296 - auc: 0.9925 - val_loss: 0.9818 - val_accuracy: 0.6760 - val_auc: 0.8949\n",
      "Epoch 33/50\n",
      "1875/1875 [==============================] - 156s 83ms/step - loss: 0.1681 - accuracy: 0.9279 - auc: 0.9931 - val_loss: 1.0054 - val_accuracy: 0.6716 - val_auc: 0.8940\n",
      "Epoch 34/50\n",
      "1875/1875 [==============================] - 145s 77ms/step - loss: 0.1711 - accuracy: 0.9307 - auc: 0.9927 - val_loss: 1.0430 - val_accuracy: 0.6708 - val_auc: 0.8890\n",
      "Epoch 35/50\n",
      "1875/1875 [==============================] - 159s 85ms/step - loss: 0.1656 - accuracy: 0.9323 - auc: 0.9934 - val_loss: 1.0821 - val_accuracy: 0.6584 - val_auc: 0.8844\n",
      "Epoch 36/50\n",
      "1875/1875 [==============================] - 146s 78ms/step - loss: 0.1792 - accuracy: 0.9276 - auc: 0.9922 - val_loss: 1.0916 - val_accuracy: 0.6474 - val_auc: 0.8844\n",
      "Epoch 37/50\n",
      "1875/1875 [==============================] - 160s 85ms/step - loss: 0.1689 - accuracy: 0.9323 - auc: 0.9930 - val_loss: 1.1064 - val_accuracy: 0.6474 - val_auc: 0.8819\n",
      "Epoch 38/50\n",
      "1875/1875 [==============================] - 157s 84ms/step - loss: 0.1801 - accuracy: 0.9288 - auc: 0.9922 - val_loss: 1.0433 - val_accuracy: 0.6664 - val_auc: 0.8913\n",
      "Epoch 39/50\n",
      "1875/1875 [==============================] - 149s 79ms/step - loss: 0.1656 - accuracy: 0.9364 - auc: 0.9930 - val_loss: 1.0832 - val_accuracy: 0.6576 - val_auc: 0.8840\n",
      "Epoch 40/50\n",
      "1875/1875 [==============================] - 161s 86ms/step - loss: 0.1769 - accuracy: 0.9328 - auc: 0.9919 - val_loss: 1.0898 - val_accuracy: 0.6503 - val_auc: 0.8827\n",
      "Epoch 41/50\n",
      "1875/1875 [==============================] - 146s 78ms/step - loss: 0.1611 - accuracy: 0.9356 - auc: 0.9934 - val_loss: 1.0950 - val_accuracy: 0.6576 - val_auc: 0.8819\n",
      "Epoch 42/50\n",
      "1875/1875 [==============================] - 162s 86ms/step - loss: 0.1615 - accuracy: 0.9351 - auc: 0.9932 - val_loss: 1.0085 - val_accuracy: 0.6833 - val_auc: 0.8987\n",
      "Epoch 43/50\n",
      "1875/1875 [==============================] - 145s 78ms/step - loss: 0.1765 - accuracy: 0.9331 - auc: 0.9920 - val_loss: 1.0715 - val_accuracy: 0.6525 - val_auc: 0.8846\n",
      "Epoch 44/50\n",
      "1875/1875 [==============================] - 162s 87ms/step - loss: 0.1530 - accuracy: 0.9360 - auc: 0.9939 - val_loss: 1.1549 - val_accuracy: 0.6474 - val_auc: 0.8761\n",
      "Epoch 45/50\n",
      "1875/1875 [==============================] - 146s 78ms/step - loss: 0.1606 - accuracy: 0.9393 - auc: 0.9934 - val_loss: 1.1379 - val_accuracy: 0.6474 - val_auc: 0.8796\n",
      "Epoch 46/50\n",
      "1875/1875 [==============================] - 146s 78ms/step - loss: 0.1650 - accuracy: 0.9405 - auc: 0.9924 - val_loss: 1.0694 - val_accuracy: 0.6855 - val_auc: 0.8891\n",
      "Epoch 47/50\n",
      "1875/1875 [==============================] - 146s 78ms/step - loss: 0.1578 - accuracy: 0.9407 - auc: 0.9934 - val_loss: 1.1354 - val_accuracy: 0.6532 - val_auc: 0.8786\n",
      "Epoch 48/50\n",
      "1875/1875 [==============================] - 163s 87ms/step - loss: 0.1442 - accuracy: 0.9428 - auc: 0.9944 - val_loss: 1.1430 - val_accuracy: 0.6452 - val_auc: 0.8807\n",
      "Epoch 49/50\n",
      "1875/1875 [==============================] - 146s 78ms/step - loss: 0.1333 - accuracy: 0.9501 - auc: 0.9948 - val_loss: 1.1611 - val_accuracy: 0.6393 - val_auc: 0.8790\n",
      "Epoch 50/50\n",
      "1875/1875 [==============================] - 146s 78ms/step - loss: 0.1484 - accuracy: 0.9427 - auc: 0.9941 - val_loss: 1.2102 - val_accuracy: 0.6283 - val_auc: 0.8725\n"
     ]
    }
   ],
   "source": [
    "history = model.fit(train_generator1,epochs=50,batch_size=4,validation_data=val_generator)"
   ]
  },
  {
   "cell_type": "code",
   "execution_count": 26,
   "id": "e86fe9d7",
   "metadata": {
    "execution": {
     "iopub.execute_input": "2022-04-28T22:44:32.137107Z",
     "iopub.status.busy": "2022-04-28T22:44:32.136845Z",
     "iopub.status.idle": "2022-04-28T22:44:33.597156Z",
     "shell.execute_reply": "2022-04-28T22:44:33.596401Z"
    },
    "papermill": {
     "duration": 32.433168,
     "end_time": "2022-04-28T22:44:33.599360",
     "exception": false,
     "start_time": "2022-04-28T22:44:01.166192",
     "status": "completed"
    },
    "tags": []
   },
   "outputs": [],
   "source": [
    "model.save('.//weights.h5')"
   ]
  },
  {
   "cell_type": "code",
   "execution_count": null,
   "id": "b6d7ba9a",
   "metadata": {
    "papermill": {
     "duration": 30.885611,
     "end_time": "2022-04-28T22:45:35.820380",
     "exception": false,
     "start_time": "2022-04-28T22:45:04.934769",
     "status": "completed"
    },
    "tags": []
   },
   "outputs": [],
   "source": []
  },
  {
   "cell_type": "code",
   "execution_count": 27,
   "id": "248ee795",
   "metadata": {
    "execution": {
     "iopub.execute_input": "2022-04-28T22:46:37.835846Z",
     "iopub.status.busy": "2022-04-28T22:46:37.835232Z",
     "iopub.status.idle": "2022-04-28T22:47:23.587867Z",
     "shell.execute_reply": "2022-04-28T22:47:23.587129Z"
    },
    "id": "cYUsUagct9Pn",
    "papermill": {
     "duration": 76.972665,
     "end_time": "2022-04-28T22:47:23.589849",
     "exception": false,
     "start_time": "2022-04-28T22:46:06.617184",
     "status": "completed"
    },
    "tags": []
   },
   "outputs": [
    {
     "data": {
      "image/png": "[encoded data removed]",
      "text/plain": [
       "<Figure size 432x288 with 2 Axes>"
      ]
     },
     "metadata": {
      "needs_background": "light"
     },
     "output_type": "display_data"
    }
   ],
   "source": [
    "from sklearn.metrics import ConfusionMatrixDisplay\n",
    "Y_test=test_df['level']\n",
    "pred=np.argmax(model.predict(test_generator),axis=-1)\n",
    "cm=confusion_matrix(Y_test,pred)\n",
    "cm_plot=ConfusionMatrixDisplay(cm,display_labels=['0','1','2','3','4'])\n",
    "cm_plot.plot()\n",
    "plt.show()"
   ]
  },
  {
   "cell_type": "code",
   "execution_count": 28,
   "id": "cd1565fd",
   "metadata": {
    "execution": {
     "iopub.execute_input": "2022-04-28T22:48:25.782057Z",
     "iopub.status.busy": "2022-04-28T22:48:25.781810Z",
     "iopub.status.idle": "2022-04-28T22:49:51.667669Z",
     "shell.execute_reply": "2022-04-28T22:49:51.666942Z"
    },
    "id": "y2bqEu_pt9Po",
    "papermill": {
     "duration": 116.963271,
     "end_time": "2022-04-28T22:49:51.669480",
     "exception": false,
     "start_time": "2022-04-28T22:47:54.706209",
     "status": "completed"
    },
    "tags": []
   },
   "outputs": [
    {
     "name": "stdout",
     "output_type": "stream",
     "text": [
      "Performance Report:\n",
      "Accuracy score is : 0.6284074605451937\n",
      "Precision score is : 0.7013743041417024\n",
      "Recall score is : 0.6284074605451937\n",
      "F1 Score is : 0.6486372598522605\n",
      "Cohen Kappa Score: 0.37565593168021394\n",
      "\t\tClassification Report:\n",
      "               precision    recall  f1-score   support\n",
      "\n",
      "           0       0.84      0.64      0.73       931\n",
      "           1       0.40      0.64      0.49       145\n",
      "           2       0.37      0.58      0.45       238\n",
      "           3       0.58      0.47      0.52        47\n",
      "           4       0.60      0.73      0.66        33\n",
      "\n",
      "    accuracy                           0.63      1394\n",
      "   macro avg       0.56      0.61      0.57      1394\n",
      "weighted avg       0.70      0.63      0.65      1394\n",
      "\n"
     ]
    }
   ],
   "source": [
    "print(\"Performance Report:\")\n",
    "y_pred6=np.argmax(model.predict(test_generator),axis=-1)\n",
    "\n",
    "y_pred_prb6=model.predict(test_generator)\n",
    "target=['0','1','2','3','4']\n",
    "from sklearn import metrics\n",
    "print('Accuracy score is :', metrics.accuracy_score(Y_test, y_pred6))\n",
    "print('Precision score is :', metrics.precision_score(Y_test, y_pred6, average='weighted'))\n",
    "print('Recall score is :',metrics.recall_score(Y_test,y_pred6, average='weighted'))\n",
    "print('F1 Score is :', metrics.f1_score(Y_test, y_pred6,average='weighted'))\n",
    "print('Cohen Kappa Score:', metrics.cohen_kappa_score(Y_test, y_pred6))\n",
    "print('\\t\\tClassification Report:\\n', metrics.classification_report(Y_test,pred,target_names=target))"
   ]
  },
  {
   "cell_type": "code",
   "execution_count": 29,
   "id": "4306cbb3",
   "metadata": {
    "execution": {
     "iopub.execute_input": "2022-04-28T22:50:53.077397Z",
     "iopub.status.busy": "2022-04-28T22:50:53.077042Z",
     "iopub.status.idle": "2022-04-28T22:50:53.084218Z",
     "shell.execute_reply": "2022-04-28T22:50:53.083434Z"
    },
    "papermill": {
     "duration": 30.083395,
     "end_time": "2022-04-28T22:50:53.086331",
     "exception": false,
     "start_time": "2022-04-28T22:50:23.002936",
     "status": "completed"
    },
    "tags": []
   },
   "outputs": [],
   "source": [
    "def plot_acc(history):\n",
    "    plt.plot(history.history['accuracy'], label='train', marker='o')\n",
    "    plt.plot( history.history['val_accuracy'], label='val', marker='o')\n",
    "    plt.title('Accuracy per epoch'); plt.ylabel('Accuracy');\n",
    "    plt.xlabel('epoch')\n",
    "    plt.legend(), plt.grid()\n",
    "    plt.show()\n",
    "    \n",
    "def plot_loss(history):\n",
    "    plt.plot(history.history['loss'], label='train_loss', marker='*')\n",
    "    plt.plot(history.history['val_loss'], label='val_loss',  marker='*')\n",
    "    plt.title('Loss per epoch'); plt.ylabel('Loss')\n",
    "    plt.xlabel('epoch')\n",
    "    plt.legend(), plt.grid()\n",
    "    plt.show()"
   ]
  },
  {
   "cell_type": "code",
   "execution_count": 30,
   "id": "4b6dc9b2",
   "metadata": {
    "execution": {
     "iopub.execute_input": "2022-04-28T22:51:54.978120Z",
     "iopub.status.busy": "2022-04-28T22:51:54.977860Z",
     "iopub.status.idle": "2022-04-28T22:51:55.355772Z",
     "shell.execute_reply": "2022-04-28T22:51:55.355123Z"
    },
    "papermill": {
     "duration": 31.348875,
     "end_time": "2022-04-28T22:51:55.357742",
     "exception": false,
     "start_time": "2022-04-28T22:51:24.008867",
     "status": "completed"
    },
    "tags": []
   },
   "outputs": [
    {
     "data": {
      "image/png": "[encoded data removed]",
      "text/plain": [
       "<Figure size 432x288 with 1 Axes>"
      ]
     },
     "metadata": {
      "needs_background": "light"
     },
     "output_type": "display_data"
    },
    {
     "data": {
      "image/png": "[encoded data removed]",
      "text/plain": [
       "<Figure size 432x288 with 1 Axes>"
      ]
     },
     "metadata": {
      "needs_background": "light"
     },
     "output_type": "display_data"
    }
   ],
   "source": [
    "plot_loss(history)\n",
    "plot_acc(history)"
   ]
  },
  {
   "cell_type": "code",
   "execution_count": 31,
   "id": "02a6ae66",
   "metadata": {
    "execution": {
     "iopub.execute_input": "2022-04-28T22:52:57.236784Z",
     "iopub.status.busy": "2022-04-28T22:52:57.236532Z",
     "iopub.status.idle": "2022-04-28T22:52:57.239912Z",
     "shell.execute_reply": "2022-04-28T22:52:57.239243Z"
    },
    "id": "YlDsTP7Jt9Po",
    "papermill": {
     "duration": 30.901917,
     "end_time": "2022-04-28T22:52:57.241561",
     "exception": false,
     "start_time": "2022-04-28T22:52:26.339644",
     "status": "completed"
    },
    "tags": []
   },
   "outputs": [],
   "source": [
    "# plt.title(\"Test Image\")\n",
    "# plt.imshow(x_test[1])\n",
    "# plt.show()\n",
    "# x_test1 = x_test[1]\n",
    "# x_test1 = x_test1[np.newaxis,...]\n",
    "# y_test3=np.argmax(y_test[1], axis=-1)\n",
    "# pred=np.argmax(model.predict(x_test1),axis=-1)\n",
    "# print(\"Level=\", pred)"
   ]
  },
  {
   "cell_type": "code",
   "execution_count": 32,
   "id": "8234a5a2",
   "metadata": {
    "execution": {
     "iopub.execute_input": "2022-04-28T22:53:59.187035Z",
     "iopub.status.busy": "2022-04-28T22:53:59.186782Z",
     "iopub.status.idle": "2022-04-28T22:53:59.190053Z",
     "shell.execute_reply": "2022-04-28T22:53:59.189343Z"
    },
    "id": "PaAby8FLN1xt",
    "papermill": {
     "duration": 31.272026,
     "end_time": "2022-04-28T22:53:59.191763",
     "exception": false,
     "start_time": "2022-04-28T22:53:27.919737",
     "status": "completed"
    },
    "tags": []
   },
   "outputs": [],
   "source": [
    "# np.argmax(y_val,axis=-1)"
   ]
  }
 ],
 "metadata": {
  "kernelspec": {
   "display_name": "Python 3",
   "language": "python",
   "name": "python3"
  },
  "language_info": {
   "codemirror_mode": {
    "name": "ipython",
    "version": 3
   },
   "file_extension": ".py",
   "mimetype": "text/x-python",
   "name": "python",
   "nbconvert_exporter": "python",
   "pygments_lexer": "ipython3",
   "version": "3.7.12"
  },
  "papermill": {
   "default_parameters": {},
   "duration": 8720.817891,
   "end_time": "2022-04-28T22:54:33.052766",
   "environment_variables": {},
   "exception": null,
   "input_path": "__notebook__.ipynb",
   "output_path": "__notebook__.ipynb",
   "parameters": {},
   "start_time": "2022-04-28T20:29:12.234875",
   "version": "2.3.4"
  }
 },
 "nbformat": 4,
 "nbformat_minor": 5
}
